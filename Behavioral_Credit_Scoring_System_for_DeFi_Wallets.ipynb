{
  "nbformat": 4,
  "nbformat_minor": 0,
  "metadata": {
    "colab": {
      "provenance": []
    },
    "kernelspec": {
      "name": "python3",
      "display_name": "Python 3"
    },
    "language_info": {
      "name": "python"
    }
  },
  "cells": [
    {
      "cell_type": "code",
      "source": [
        "import json\n",
        "import os\n",
        "from collections import defaultdict\n",
        "from datetime import datetime\n",
        "import math\n",
        "import pandas as pd\n",
        "\n",
        "# ---------- STEP 1: Load JSON data ----------\n",
        "data_dir = \"/content/drive/MyDrive/compoundv2/dataset\"\n",
        "files = [\"/content/drive/MyDrive/compoundv2/dataset/compoundV2_transactions_ethereum_chunk_0.json\", \"/content/drive/MyDrive/compoundv2/dataset/compoundV2_transactions_ethereum_chunk_1.json\", \"/content/drive/MyDrive/compoundv2/dataset/compoundV2_transactions_ethereum_chunk_2.json\"]\n",
        "\n",
        "all_deposits = []\n",
        "all_liquidates = []\n",
        "\n",
        "for file in files:\n",
        "    with open(os.path.join(data_dir, file), \"r\") as f:\n",
        "        data = json.load(f)\n",
        "        all_deposits.extend(data.get(\"deposits\", []))\n",
        "        all_liquidates.extend(data.get(\"liquidates\", []))\n",
        "\n",
        "print(f\"Loaded {len(all_deposits)} deposits and {len(all_liquidates)} liquidations.\")"
      ],
      "metadata": {
        "colab": {
          "base_uri": "https://localhost:8080/"
        },
        "id": "eZ5Js5isd6Cz",
        "outputId": "4dad98c2-0d97-4334-f68c-b515bd08b5ab"
      },
      "execution_count": 1,
      "outputs": [
        {
          "output_type": "stream",
          "name": "stdout",
          "text": [
            "Loaded 30000 deposits and 20737 liquidations.\n"
          ]
        }
      ]
    },
    {
      "cell_type": "code",
      "source": [
        "# ---------- STEP 2: Feature Engineering ----------\n",
        "wallet_features = defaultdict(lambda: {\n",
        "    \"total_deposit_usd\": 0.0,\n",
        "    \"num_deposits\": 0,\n",
        "    \"first_deposit_ts\": float(\"inf\"),\n",
        "    \"last_deposit_ts\": 0,\n",
        "    \"assets_deposited\": set(),\n",
        "    \"times_liquidated\": 0,\n",
        "    \"total_liquidated_usd\": 0.0\n",
        "})\n",
        "\n",
        "# Process deposits\n",
        "for tx in all_deposits:\n",
        "    wallet = tx[\"account\"][\"id\"]\n",
        "    amount_usd = float(tx.get(\"amountUSD\", 0))\n",
        "    ts = int(tx[\"timestamp\"])\n",
        "    symbol = tx[\"asset\"][\"symbol\"]\n",
        "\n",
        "    features = wallet_features[wallet]\n",
        "    features[\"total_deposit_usd\"] += amount_usd\n",
        "    features[\"num_deposits\"] += 1\n",
        "    features[\"first_deposit_ts\"] = min(features[\"first_deposit_ts\"], ts)\n",
        "    features[\"last_deposit_ts\"] = max(features[\"last_deposit_ts\"], ts)\n",
        "    features[\"assets_deposited\"].add(symbol)\n",
        "\n",
        "# Process liquidations\n",
        "for tx in all_liquidates:\n",
        "    wallet = tx[\"liquidatee\"][\"id\"]\n",
        "    amount_usd = float(tx.get(\"amountUSD\", 0))\n",
        "\n",
        "    features = wallet_features[wallet]\n",
        "    features[\"times_liquidated\"] += 1\n",
        "    features[\"total_liquidated_usd\"] += amount_usd\n",
        "\n",
        "# Finalize features\n",
        "wallet_records = []\n",
        "for wallet, f in wallet_features.items():\n",
        "    if f[\"first_deposit_ts\"] == float(\"inf\"):\n",
        "        deposit_duration_days = 0\n",
        "    else:\n",
        "        duration_secs = f[\"last_deposit_ts\"] - f[\"first_deposit_ts\"]\n",
        "        deposit_duration_days = duration_secs / (60 * 60 * 24)\n",
        "\n",
        "    wallet_records.append({\n",
        "        \"wallet\": wallet,\n",
        "        \"total_deposit_usd\": f[\"total_deposit_usd\"],\n",
        "        \"num_deposits\": f[\"num_deposits\"],\n",
        "        \"deposit_duration_days\": deposit_duration_days,\n",
        "        \"unique_assets\": len(f[\"assets_deposited\"]),\n",
        "        \"times_liquidated\": f[\"times_liquidated\"],\n",
        "        \"total_liquidated_usd\": f[\"total_liquidated_usd\"]\n",
        "    })\n",
        "\n",
        "df = pd.DataFrame(wallet_records)\n",
        "\n",
        "output_csv = \"wallet_features.csv\"\n",
        "df.to_csv(output_csv, index=False)\n",
        "print(f\"Wallet features saved to: {output_csv}\")"
      ],
      "metadata": {
        "colab": {
          "base_uri": "https://localhost:8080/"
        },
        "id": "ROZLm6PpegTl",
        "outputId": "4117f2d0-897e-494d-bf3c-3b8388060934"
      },
      "execution_count": 2,
      "outputs": [
        {
          "output_type": "stream",
          "name": "stdout",
          "text": [
            "Wallet features saved to: wallet_features.csv\n"
          ]
        }
      ]
    },
    {
      "cell_type": "code",
      "source": [
        "# ---------- STEP 3: Score Wallets (0 to 100 scale) ----------\n",
        "# Define scoring formula\n",
        "def score_wallet(row):\n",
        "    score = (\n",
        "        0.4 * math.log1p(row[\"total_deposit_usd\"]) +\n",
        "        0.2 * row[\"deposit_duration_days\"] +\n",
        "        0.2 * row[\"unique_assets\"] -\n",
        "        0.2 * row[\"times_liquidated\"] -\n",
        "        0.2 * math.log1p(row[\"total_liquidated_usd\"])\n",
        "    )\n",
        "    return score\n",
        "\n",
        "df[\"raw_score\"] = df.apply(score_wallet, axis=1)\n",
        "\n",
        "# Normalize scores to 0–100\n",
        "min_score = df[\"raw_score\"].min()\n",
        "max_score = df[\"raw_score\"].max()\n",
        "df[\"credit_score\"] = ((df[\"raw_score\"] - min_score) / (max_score - min_score)) * 100\n",
        "\n"
      ],
      "metadata": {
        "id": "M79da51yesEw"
      },
      "execution_count": 3,
      "outputs": []
    },
    {
      "cell_type": "code",
      "source": [
        "# ---------- STEP 4: Output ----------\n",
        "top_1000 = df.sort_values(\"credit_score\", ascending=False).head(1000)\n",
        "top_1000[[\"wallet\", \"credit_score\"]].to_csv(\"wallet_scores.csv\", index=False)\n",
        "\n",
        "print(\"Scoring complete. Output saved as 'wallet_scores.csv'\")"
      ],
      "metadata": {
        "colab": {
          "base_uri": "https://localhost:8080/"
        },
        "id": "-nSbFF_dhEgb",
        "outputId": "e2b68080-91b7-4b12-e713-ed52bbccf5e9"
      },
      "execution_count": 4,
      "outputs": [
        {
          "output_type": "stream",
          "name": "stdout",
          "text": [
            "Scoring complete. Output saved as 'wallet_scores.csv'\n"
          ]
        }
      ]
    }
  ]
}